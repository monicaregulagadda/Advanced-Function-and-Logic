{
 "cells": [
  {
   "cell_type": "code",
   "execution_count": 2,
   "id": "35f5c168-0339-406a-8e0a-843f52856c5f",
   "metadata": {},
   "outputs": [
    {
     "name": "stdout",
     "output_type": "stream",
     "text": [
      "[1, 2, 3, 4, 5, 6]\n"
     ]
    }
   ],
   "source": [
    "def function_filter_list(input_list, threshold):\n",
    "    #filter the input list based on the given thershold\n",
    "    return[i for i in input_list if i <= thershold]\n",
    "\n",
    "input_list = [1,2,3,4,5,6,7,8,9]\n",
    "thershold = 6\n",
    "result = function_filter_list(input_list, thershold)\n",
    "print(result)"
   ]
  },
  {
   "cell_type": "code",
   "execution_count": null,
   "id": "7afd2904-c637-46f0-babf-028f177c26eb",
   "metadata": {},
   "outputs": [],
   "source": []
  }
 ],
 "metadata": {
  "kernelspec": {
   "display_name": "Python 3 (ipykernel)",
   "language": "python",
   "name": "python3"
  },
  "language_info": {
   "codemirror_mode": {
    "name": "ipython",
    "version": 3
   },
   "file_extension": ".py",
   "mimetype": "text/x-python",
   "name": "python",
   "nbconvert_exporter": "python",
   "pygments_lexer": "ipython3",
   "version": "3.12.5"
  }
 },
 "nbformat": 4,
 "nbformat_minor": 5
}
