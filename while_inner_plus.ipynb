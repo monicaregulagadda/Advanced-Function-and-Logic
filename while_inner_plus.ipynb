{
 "cells": [
  {
   "cell_type": "code",
   "execution_count": 7,
   "id": "980e2a99-9ba7-44ed-9374-f5b0f3d8015a",
   "metadata": {},
   "outputs": [
    {
     "name": "stdout",
     "output_type": "stream",
     "text": [
      "[9, 10]\n"
     ]
    }
   ],
   "source": [
    "def while_inner_plus(input_list):\n",
    "\n",
    "    c_list = input_list\n",
    "\n",
    "    #while loop untill the nestes lists ended\n",
    "    while any(isinstance(i,list) for i in c_list):\n",
    "        for item in c_list:\n",
    "            if isinstance(item,list):\n",
    "                c_list = item\n",
    "                break\n",
    "    #will return the inner most list plus 1\n",
    "    for i in range(len(c_list)):\n",
    "        c_list[i] += 1\n",
    "        \n",
    "    return c_list\n",
    "\n",
    "\n",
    "input_list = [1,2,3,4,[5,6,7,[8,9]]]\n",
    "result =  while_inner_plus(input_list)\n",
    "print(result)"
   ]
  },
  {
   "cell_type": "code",
   "execution_count": null,
   "id": "132edfe1-1d42-4475-aaaa-c8c023a0625e",
   "metadata": {},
   "outputs": [],
   "source": []
  },
  {
   "cell_type": "code",
   "execution_count": null,
   "id": "8a17ca2b-64fc-4f02-9bea-4c93ea4c6567",
   "metadata": {},
   "outputs": [],
   "source": []
  }
 ],
 "metadata": {
  "kernelspec": {
   "display_name": "Python 3 (ipykernel)",
   "language": "python",
   "name": "python3"
  },
  "language_info": {
   "codemirror_mode": {
    "name": "ipython",
    "version": 3
   },
   "file_extension": ".py",
   "mimetype": "text/x-python",
   "name": "python",
   "nbconvert_exporter": "python",
   "pygments_lexer": "ipython3",
   "version": "3.12.5"
  }
 },
 "nbformat": 4,
 "nbformat_minor": 5
}
