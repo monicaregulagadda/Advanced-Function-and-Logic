{
 "cells": [
  {
   "cell_type": "code",
   "execution_count": 1,
   "id": "fdfa9f79-abf6-4a09-a40e-85f3024ec2de",
   "metadata": {},
   "outputs": [
    {
     "name": "stdout",
     "output_type": "stream",
     "text": [
      "[9, 10]\n"
     ]
    }
   ],
   "source": [
    "def recursive_inner_plus(input_list):\n",
    "\n",
    "    # find the innermost list\n",
    "    for item in input_list:\n",
    "        if isinstance(item,list):\n",
    "            return recursive_inner_plus(item)\n",
    "            \n",
    "    #will return the inner most list plus 1\n",
    "    return [i+1 for i in input_list]\n",
    "\n",
    "input_list = [1,2,3,4,[5,6,7,[8,9]]]\n",
    "result = recursive_inner_plus(input_list)\n",
    "print(result)"
   ]
  },
  {
   "cell_type": "code",
   "execution_count": null,
   "id": "df7690ee-8203-414b-b6b5-388cacd3370e",
   "metadata": {},
   "outputs": [],
   "source": []
  }
 ],
 "metadata": {
  "kernelspec": {
   "display_name": "Python 3 (ipykernel)",
   "language": "python",
   "name": "python3"
  },
  "language_info": {
   "codemirror_mode": {
    "name": "ipython",
    "version": 3
   },
   "file_extension": ".py",
   "mimetype": "text/x-python",
   "name": "python",
   "nbconvert_exporter": "python",
   "pygments_lexer": "ipython3",
   "version": "3.12.5"
  }
 },
 "nbformat": 4,
 "nbformat_minor": 5
}
